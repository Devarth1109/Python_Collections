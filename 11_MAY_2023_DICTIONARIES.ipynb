{
 "cells": [
  {
   "cell_type": "markdown",
   "id": "3a88fe15",
   "metadata": {},
   "source": [
    "# Dictionaries"
   ]
  },
  {
   "cell_type": "code",
   "execution_count": 35,
   "id": "2bdcf70f",
   "metadata": {},
   "outputs": [
    {
     "name": "stdout",
     "output_type": "stream",
     "text": [
      "{'brand': 'ford', 'car': 'mustang', 'model': 2022}\n"
     ]
    }
   ],
   "source": [
    "\"\"\"\n",
    "dictionaries is a collection of python.\n",
    "dictionaries are used to stores the data in (key:values) format.\n",
    "it declared with {}\n",
    "it is orederd and indexed\n",
    "it is mutable.\n",
    "keys are immutable but values are mutable.\n",
    "\"\"\"\n",
    "\n",
    "dict1 = {\n",
    "    \"brand\": \"ford\",\n",
    "    \"car\": \"mustang\",\n",
    "    \"model\": 2022\n",
    "}\n",
    "print(dict1)"
   ]
  },
  {
   "cell_type": "code",
   "execution_count": 17,
   "id": "d6b6d206",
   "metadata": {},
   "outputs": [
    {
     "name": "stdout",
     "output_type": "stream",
     "text": [
      "ford\n"
     ]
    }
   ],
   "source": [
    "# access dict items\n",
    "print(dict1[\"brand\"])"
   ]
  },
  {
   "cell_type": "code",
   "execution_count": 20,
   "id": "f5c7105b",
   "metadata": {},
   "outputs": [
    {
     "name": "stdout",
     "output_type": "stream",
     "text": [
      "2022\n"
     ]
    }
   ],
   "source": [
    "x = dict1.get(\"model\")\n",
    "print(x)"
   ]
  },
  {
   "cell_type": "code",
   "execution_count": 23,
   "id": "4cbeeb5f",
   "metadata": {},
   "outputs": [
    {
     "name": "stdout",
     "output_type": "stream",
     "text": [
      "dict_keys(['brand', 'car', 'model'])\n"
     ]
    }
   ],
   "source": [
    "y = dict1.keys()\n",
    "print(y)"
   ]
  },
  {
   "cell_type": "code",
   "execution_count": 26,
   "id": "b367949e",
   "metadata": {},
   "outputs": [
    {
     "name": "stdout",
     "output_type": "stream",
     "text": [
      "dict_values(['ford', 'mustang', 2022])\n"
     ]
    }
   ],
   "source": [
    "z = dict1.values()\n",
    "print(z)"
   ]
  },
  {
   "cell_type": "code",
   "execution_count": 31,
   "id": "08891169",
   "metadata": {},
   "outputs": [
    {
     "name": "stdout",
     "output_type": "stream",
     "text": [
      "dict_keys(['brand', 'car', 'model', 'color'])\n",
      "{'brand': 'ford', 'car': 'mustang', 'model': 2022, 'color': 'red'}\n"
     ]
    }
   ],
   "source": [
    "a = dict1.keys()\n",
    "print(a)\n",
    "dict1[\"color\"] = \"red\"\n",
    "print(dict1)"
   ]
  },
  {
   "cell_type": "code",
   "execution_count": 34,
   "id": "ebc05b62",
   "metadata": {},
   "outputs": [
    {
     "name": "stdout",
     "output_type": "stream",
     "text": [
      "dict_values(['ford', 'mustang', 2022, 'neon'])\n",
      "{'brand': 'ford', 'car': 'mustang', 'model': 2022, 'color': 'neon'}\n"
     ]
    }
   ],
   "source": [
    "b = dict1.values()\n",
    "print(b)\n",
    "dict1['color'] = 'neon'\n",
    "print(dict1)"
   ]
  },
  {
   "cell_type": "code",
   "execution_count": 37,
   "id": "38e4ab94",
   "metadata": {},
   "outputs": [
    {
     "data": {
      "text/plain": [
       "dict_items([('brand', 'ford'), ('car', 'mustang'), ('model', 2022)])"
      ]
     },
     "execution_count": 37,
     "metadata": {},
     "output_type": "execute_result"
    }
   ],
   "source": [
    "c = dict1.items()\n",
    "c"
   ]
  },
  {
   "cell_type": "code",
   "execution_count": 13,
   "id": "52fe2247",
   "metadata": {},
   "outputs": [
    {
     "name": "stdout",
     "output_type": "stream",
     "text": [
      "{'name': 'devarth', 'age': 19, 'year': 2003}\n"
     ]
    }
   ],
   "source": [
    "# duplicates not allowed\n",
    "dd = {\n",
    "    \"name\": \"devarth\",\n",
    "    \"age\": 20,\n",
    "    \"year\": 2003,\n",
    "    \"age\": 19\n",
    "}\n",
    "print(dd)"
   ]
  },
  {
   "cell_type": "code",
   "execution_count": 14,
   "id": "a80392de",
   "metadata": {},
   "outputs": [
    {
     "name": "stdout",
     "output_type": "stream",
     "text": [
      "3\n"
     ]
    }
   ],
   "source": [
    "# check the length of dictionary\n",
    "print(len(dd))"
   ]
  },
  {
   "cell_type": "code",
   "execution_count": 39,
   "id": "52c815ef",
   "metadata": {},
   "outputs": [
    {
     "name": "stdout",
     "output_type": "stream",
     "text": [
      "{'academy': 'tops', 'course': 'python', 'months': 3}\n",
      "{'academy': 'tops', 'course': 'python', 'months': 3, 'fac': 'devarth'}\n"
     ]
    }
   ],
   "source": [
    "# add items\n",
    "dic = {\n",
    "    'academy': 'tops',\n",
    "    'course': 'python',\n",
    "    'months': 3,\n",
    "}\n",
    "print(dic)\n",
    "dic['fac'] = 'devarth'\n",
    "print(dic)"
   ]
  },
  {
   "cell_type": "code",
   "execution_count": 45,
   "id": "e19ea045",
   "metadata": {},
   "outputs": [
    {
     "name": "stdout",
     "output_type": "stream",
     "text": [
      "{'name': 'virat kohli', 'occupation': 'cricketer', 'religion': 'hindu'}\n"
     ]
    }
   ],
   "source": [
    "ss = {\n",
    "    \"name\": \"virat kohli\",\n",
    "    \"occupation\": \"cricketer\"\n",
    "}\n",
    "ss.update({\"religion\": \"hindu\"})\n",
    "print(ss)"
   ]
  },
  {
   "cell_type": "code",
   "execution_count": 46,
   "id": "82972543",
   "metadata": {},
   "outputs": [
    {
     "data": {
      "text/plain": [
       "{'name': 'virat kohli', 'occupation': 'cricketer', 'religion': 'hindu'}"
      ]
     },
     "execution_count": 46,
     "metadata": {},
     "output_type": "execute_result"
    }
   ],
   "source": [
    "ss"
   ]
  },
  {
   "cell_type": "code",
   "execution_count": 48,
   "id": "76107786",
   "metadata": {},
   "outputs": [
    {
     "data": {
      "text/plain": [
       "{'name': 'virat kohli', 'religion': 'hindu'}"
      ]
     },
     "execution_count": 48,
     "metadata": {},
     "output_type": "execute_result"
    }
   ],
   "source": [
    "ss.pop(\"occupation\")\n",
    "ss"
   ]
  },
  {
   "cell_type": "code",
   "execution_count": 49,
   "id": "aca160e7",
   "metadata": {},
   "outputs": [
    {
     "data": {
      "text/plain": [
       "{'name': 'virat kohli'}"
      ]
     },
     "execution_count": 49,
     "metadata": {},
     "output_type": "execute_result"
    }
   ],
   "source": [
    "ss.popitem()\n",
    "ss"
   ]
  },
  {
   "cell_type": "code",
   "execution_count": 50,
   "id": "51bebcc4",
   "metadata": {},
   "outputs": [
    {
     "data": {
      "text/plain": [
       "{}"
      ]
     },
     "execution_count": 50,
     "metadata": {},
     "output_type": "execute_result"
    }
   ],
   "source": [
    "ss.clear()\n",
    "ss"
   ]
  },
  {
   "cell_type": "code",
   "execution_count": 52,
   "id": "0ef9a236",
   "metadata": {},
   "outputs": [
    {
     "name": "stdout",
     "output_type": "stream",
     "text": [
      "{'bolero', 'xuv300', 'scorpio', 'thar', 'xuv700'}\n",
      "original dict :  {'bolero', 'xuv300', 'scorpio', 'thar', 'xuv700'}\n"
     ]
    }
   ],
   "source": [
    "# copy dictionaries\n",
    "m = {\"thar\",\"scorpio\",\"xuv700\",\"xuv300\",\"bolero\"}\n",
    "n = m.copy()\n",
    "print(n)\n",
    "print(\"original dict : \",m)"
   ]
  },
  {
   "cell_type": "code",
   "execution_count": 59,
   "id": "a5fa668f",
   "metadata": {},
   "outputs": [
    {
     "name": "stdout",
     "output_type": "stream",
     "text": [
      "{'child1': {'name': 'Devarth', 'age': 20}, 'child2': {'name': 'bhumi', 'age': 21}, 'child3': {'name': 'devbhumi', 'age': 41}}\n"
     ]
    }
   ],
   "source": [
    "# nested dictionary\n",
    "myfamily = {\n",
    "    \"child1\": {\n",
    "        \"name\": \"Devarth\",\n",
    "        \"age\": 20\n",
    "    },\n",
    "    \"child2\": {\n",
    "        \"name\": \"bhumi\",\n",
    "        \"age\": 21\n",
    "    },\n",
    "    \"child3\": {\n",
    "        \"name\": \"devbhumi\",\n",
    "        \"age\": 41\n",
    "    }\n",
    "}\n",
    "print(myfamily)"
   ]
  },
  {
   "cell_type": "code",
   "execution_count": 67,
   "id": "cedb9971",
   "metadata": {},
   "outputs": [
    {
     "data": {
      "text/plain": [
       "{}"
      ]
     },
     "execution_count": 67,
     "metadata": {},
     "output_type": "execute_result"
    }
   ],
   "source": [
    "\"\"\"\n",
    "dictionaries method:-\n",
    "clear()\n",
    "copy()\n",
    "fromkeys()\n",
    "get()\n",
    "items()\n",
    "keys()\n",
    "pop()\n",
    "poppitems()\n",
    "setdefault()\n",
    "update()\n",
    "values()\n",
    "\"\"\"\n",
    "\n",
    "# clear method\n",
    "df = {\n",
    "    \"city\" : {\n",
    "        \"Ahmedabad\" : \"Megacity\",\n",
    "        \"state\" : \"Gujarat\"\n",
    "    },\n",
    "    \"place\" : {\n",
    "        \"riverfront\" : \"paldi\",\n",
    "        \"mall\" : \"paladium\"\n",
    "    },\n",
    "    \"famous\" : {\n",
    "        \"field\" : \"IT companies\",\n",
    "        \"nearest\" : \"Gandhinagar\"\n",
    "    }\n",
    "}\n",
    "df.clear()\n",
    "df"
   ]
  },
  {
   "cell_type": "code",
   "execution_count": 70,
   "id": "6c96e6e6",
   "metadata": {},
   "outputs": [
    {
     "name": "stdout",
     "output_type": "stream",
     "text": [
      "{'course': 'python', 'academy': 'tops'}\n",
      "{'course': 'python', 'academy': 'tops'}\n"
     ]
    }
   ],
   "source": [
    "# copy \n",
    "ghj = {\n",
    "    \"course\" : \"python\",\n",
    "    \"academy\" : \"tops\"\n",
    "}\n",
    "hj = ghj.copy()\n",
    "print(hj)\n",
    "print(ghj)"
   ]
  },
  {
   "cell_type": "code",
   "execution_count": 74,
   "id": "f733a89f",
   "metadata": {},
   "outputs": [
    {
     "name": "stdout",
     "output_type": "stream",
     "text": [
      "{'key1': 12, 'key2': 12, 'key3': 12}\n"
     ]
    }
   ],
   "source": [
    "# fromeys\n",
    "x = (\"key1\",\"key2\",\"key3\")\n",
    "y = 12\n",
    "dict1 = dict1.fromkeys(x,y)\n",
    "print(dict1)"
   ]
  },
  {
   "cell_type": "code",
   "execution_count": 97,
   "id": "45c0839b",
   "metadata": {},
   "outputs": [
    {
     "name": "stdout",
     "output_type": "stream",
     "text": [
      "silver\n"
     ]
    }
   ],
   "source": [
    "# get \n",
    "cv = {\n",
    "    \"vehicle\" : \"car\",\n",
    "    \"number\" : \"GJ11AB9459\",\n",
    "    \"model\"  : 2013,\n",
    "    \"color\" : \"silver\",\n",
    "    \"name\" : \"quanto c4\"\n",
    "}\n",
    "print(cv.get(\"color\"))"
   ]
  },
  {
   "cell_type": "code",
   "execution_count": 77,
   "id": "68a4fb7d",
   "metadata": {},
   "outputs": [
    {
     "name": "stdout",
     "output_type": "stream",
     "text": [
      "dict_items([('vehicle', 'car'), ('number', 'GJ11AB9459'), ('model', 2013), ('color', 'silver'), ('name', 'quanto c4')])\n"
     ]
    }
   ],
   "source": [
    "# items\n",
    "print(cv.items())"
   ]
  },
  {
   "cell_type": "code",
   "execution_count": 78,
   "id": "d4a0b827",
   "metadata": {},
   "outputs": [
    {
     "name": "stdout",
     "output_type": "stream",
     "text": [
      "dict_keys(['vehicle', 'number', 'model', 'color', 'name'])\n"
     ]
    }
   ],
   "source": [
    "# keys\n",
    "print(cv.keys())"
   ]
  },
  {
   "cell_type": "code",
   "execution_count": 79,
   "id": "9bbfe6f5",
   "metadata": {},
   "outputs": [
    {
     "name": "stdout",
     "output_type": "stream",
     "text": [
      "dict_values(['car', 'GJ11AB9459', 2013, 'silver', 'quanto c4'])\n"
     ]
    }
   ],
   "source": [
    "# values\n",
    "print(cv.values())"
   ]
  },
  {
   "cell_type": "code",
   "execution_count": 81,
   "id": "69c544e1",
   "metadata": {},
   "outputs": [
    {
     "name": "stdout",
     "output_type": "stream",
     "text": [
      "quanto c4\n"
     ]
    }
   ],
   "source": [
    "# pop\n",
    "print(cv.pop(\"name\"))"
   ]
  },
  {
   "cell_type": "code",
   "execution_count": 83,
   "id": "5af3a91c",
   "metadata": {},
   "outputs": [
    {
     "name": "stdout",
     "output_type": "stream",
     "text": [
      "('color', 'silver')\n"
     ]
    }
   ],
   "source": [
    "# popitems\n",
    "print(cv.popitem())"
   ]
  },
  {
   "cell_type": "code",
   "execution_count": 103,
   "id": "edc95e80",
   "metadata": {},
   "outputs": [
    {
     "name": "stdout",
     "output_type": "stream",
     "text": [
      "mustang\n"
     ]
    }
   ],
   "source": [
    "# setdefault\n",
    "cv = {\n",
    "    \"vehicle\" : \"car\",\n",
    "    \"number\" : \"GJ11AB9459\",\n",
    "    \"color\" : \"silver\",\n",
    "    \"name\" : \"quanto c4\"\n",
    "}\n",
    "p = cv.setdefault(\"model\",\"mustang\")\n",
    "print(p)"
   ]
  },
  {
   "cell_type": "code",
   "execution_count": 108,
   "id": "1815c3ce",
   "metadata": {},
   "outputs": [
    {
     "data": {
      "text/plain": [
       "{'vehicle': 'car', 'number': 'GJ11AB9459', 'color': 'silver', 'name': 'xylo'}"
      ]
     },
     "execution_count": 108,
     "metadata": {},
     "output_type": "execute_result"
    }
   ],
   "source": [
    "# update\n",
    "cv = {\n",
    "    \"vehicle\" : \"car\",\n",
    "    \"number\" : \"GJ11AB9459\",\n",
    "    \"color\" : \"silver\",\n",
    "    \"name\" : \"quanto c4\"\n",
    "}\n",
    "cv.update({\"name\" : \"xylo\"})\n",
    "cv"
   ]
  }
 ],
 "metadata": {
  "kernelspec": {
   "display_name": "Python 3 (ipykernel)",
   "language": "python",
   "name": "python3"
  },
  "language_info": {
   "codemirror_mode": {
    "name": "ipython",
    "version": 3
   },
   "file_extension": ".py",
   "mimetype": "text/x-python",
   "name": "python",
   "nbconvert_exporter": "python",
   "pygments_lexer": "ipython3",
   "version": "3.10.9"
  }
 },
 "nbformat": 4,
 "nbformat_minor": 5
}
