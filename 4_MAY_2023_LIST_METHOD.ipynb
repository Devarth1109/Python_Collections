{
 "cells": [
  {
   "cell_type": "markdown",
   "id": "c9b1f850",
   "metadata": {},
   "source": [
    "# List"
   ]
  },
  {
   "cell_type": "code",
   "execution_count": 3,
   "id": "45069f89",
   "metadata": {},
   "outputs": [
    {
     "name": "stdout",
     "output_type": "stream",
     "text": [
      "['devarth', 1109, '1109', 'nanavaty']\n"
     ]
    }
   ],
   "source": [
    "# python lists...\n",
    "# there are many types of collections in python like list,set,tuple,dictionary.\n",
    "# list is a collections of str,int,float values.\n",
    "# list defined as [].\n",
    "# in list we can store multiple value at a time.\n",
    "# list value is mutable it means that we can change the value of it.\n",
    "# list has ordered collections of data.\n",
    "# it allow duplicate values in list.\n",
    "\n",
    "# defining a list\n",
    "lst = [\"devarth\",1109,\"1109\",\"nanavaty\"]\n",
    "print(lst)"
   ]
  },
  {
   "cell_type": "code",
   "execution_count": 6,
   "id": "bac3ee7f",
   "metadata": {},
   "outputs": [
    {
     "name": "stdout",
     "output_type": "stream",
     "text": [
      "['apple', 'banana', 'cherry']\n"
     ]
    }
   ],
   "source": [
    "# there are so many methods are included in list.\n",
    "\"\"\"\n",
    "all methods of list are as below\n",
    "1 len() = check the length\n",
    "2 type() = check the type\n",
    "3 append() = add an element in the end of the list\n",
    "4 clear() = remove all the element of the list\n",
    "5 copy() = return the copy of the list\n",
    "6 count() = return the number of element with the specified value\n",
    "7 extend() = add the element to the end of the current list\n",
    "8 index() = return the index of the first element with specified value\n",
    "9 insert() = insert an element at the specified position\n",
    "10 pop() = remove the element at the specified position\n",
    "11 remove() = remove the item at the specified value\n",
    "12 reverse() = reverse the ordered of the list\n",
    "13 sort() = sort the list\n",
    "\"\"\"\n",
    "# defining the list\n",
    "fruit = [\"apple\",\"banana\",\"cherry\"]\n",
    "print(fruit)"
   ]
  },
  {
   "cell_type": "code",
   "execution_count": 11,
   "id": "28faf33c",
   "metadata": {},
   "outputs": [
    {
     "name": "stdout",
     "output_type": "stream",
     "text": [
      "['apple', 'banana', 'cherry', 'guava']\n"
     ]
    }
   ],
   "source": [
    "fruit = [\"apple\",\"banana\",\"cherry\"]\n",
    "app = fruit.append(\"guava\") # append method\n",
    "print(fruit)"
   ]
  },
  {
   "cell_type": "code",
   "execution_count": 15,
   "id": "ea08c15a",
   "metadata": {},
   "outputs": [
    {
     "name": "stdout",
     "output_type": "stream",
     "text": [
      "3\n"
     ]
    }
   ],
   "source": [
    "fruit = [\"apple\",\"banana\",\"cherry\"]\n",
    "print(len(fruit))"
   ]
  },
  {
   "cell_type": "code",
   "execution_count": 14,
   "id": "e0113c9c",
   "metadata": {},
   "outputs": [
    {
     "data": {
      "text/plain": [
       "list"
      ]
     },
     "execution_count": 14,
     "metadata": {},
     "output_type": "execute_result"
    }
   ],
   "source": [
    "car = [\"harrier\",\"fortuner\",\"innova\"]\n",
    "type(car)"
   ]
  },
  {
   "cell_type": "code",
   "execution_count": 17,
   "id": "9b144ce5",
   "metadata": {},
   "outputs": [
    {
     "data": {
      "text/plain": [
       "[]"
      ]
     },
     "execution_count": 17,
     "metadata": {},
     "output_type": "execute_result"
    }
   ],
   "source": [
    "fruit = [\"apple\",\"banana\",\"cherry\"]\n",
    "clear = fruit.clear()\n",
    "fruit"
   ]
  },
  {
   "cell_type": "code",
   "execution_count": 21,
   "id": "4cf011e0",
   "metadata": {},
   "outputs": [
    {
     "name": "stdout",
     "output_type": "stream",
     "text": [
      "1\n"
     ]
    }
   ],
   "source": [
    "fruit = [\"apple\",\"banana\",\"cherry\"]\n",
    "x = fruit.count(\"cherry\")\n",
    "print(x)"
   ]
  },
  {
   "cell_type": "code",
   "execution_count": 28,
   "id": "3590fd0f",
   "metadata": {},
   "outputs": [
    {
     "name": "stdout",
     "output_type": "stream",
     "text": [
      "['apple', 'banana', 'cherry']\n",
      "['apple', 'banana', 'cherry']\n",
      "['dairymilk', 'kitkat', 'milkybar']\n",
      "['dairymilk', 'kitkat', 'milkybar']\n"
     ]
    }
   ],
   "source": [
    "fruit = [\"apple\",\"banana\",\"cherry\"]\n",
    "copy = fruit.copy()\n",
    "print(copy)\n",
    "print(fruit)\n",
    "\n",
    "\n",
    "# we can also doing prg as well as this method\n",
    "chocolate = [\"dairymilk\",\"kitkat\",\"milkybar\"]\n",
    "coppy = chocolate\n",
    "print(coppy)\n",
    "print(chocolate)"
   ]
  },
  {
   "cell_type": "code",
   "execution_count": 32,
   "id": "f3f0db6b",
   "metadata": {},
   "outputs": [
    {
     "name": "stdout",
     "output_type": "stream",
     "text": [
      "['apple', 'samsung', 'lenovo', 'hp', 'apple', 'banana', 'cherry']\n"
     ]
    }
   ],
   "source": [
    "pc = [\"apple\",\"samsung\",\"lenovo\",\"hp\"]\n",
    "fruit = [\"apple\",\"banana\",\"cherry\"]\n",
    "ex = pc.extend(fruit)\n",
    "print(pc)"
   ]
  },
  {
   "cell_type": "code",
   "execution_count": 34,
   "id": "77692668",
   "metadata": {},
   "outputs": [
    {
     "name": "stdout",
     "output_type": "stream",
     "text": [
      "2\n"
     ]
    }
   ],
   "source": [
    "lang = [\"python\",\"c\",\".net\",\"java\"]\n",
    "h = lang.index(\".net\")\n",
    "print(h)"
   ]
  },
  {
   "cell_type": "code",
   "execution_count": 36,
   "id": "167955f4",
   "metadata": {},
   "outputs": [
    {
     "name": "stdout",
     "output_type": "stream",
     "text": [
      "['potato', 'tomato', 'ginger', 'cabage', 'locky']\n"
     ]
    }
   ],
   "source": [
    "vegetable = [\"potato\",\"tomato\",\"cabage\",\"locky\"]\n",
    "ins = vegetable.insert(2,\"ginger\")\n",
    "print(vegetable)"
   ]
  },
  {
   "cell_type": "code",
   "execution_count": 38,
   "id": "e436cfbe",
   "metadata": {},
   "outputs": [
    {
     "name": "stdout",
     "output_type": "stream",
     "text": [
      "['male', 'female']\n"
     ]
    }
   ],
   "source": [
    "gender = [\"male\",\"female\",\"other\"]\n",
    "pop = gender.pop()\n",
    "print(gender)"
   ]
  },
  {
   "cell_type": "code",
   "execution_count": 4,
   "id": "c9d5f256",
   "metadata": {},
   "outputs": [
    {
     "data": {
      "text/plain": [
       "['KTM', 'Honda']"
      ]
     },
     "execution_count": 4,
     "metadata": {},
     "output_type": "execute_result"
    }
   ],
   "source": [
    "bike = [\"KTM\",\"Honda\",\"Bajaj\"]\n",
    "c = bike.remove(\"Bajaj\")\n",
    "bike"
   ]
  },
  {
   "cell_type": "code",
   "execution_count": 8,
   "id": "c9be0558",
   "metadata": {},
   "outputs": [
    {
     "data": {
      "text/plain": [
       "['vidhi',\n",
       " 'hemangini',\n",
       " 'hemanshi',\n",
       " 'harpal',\n",
       " 'devanshi',\n",
       " 'krishna',\n",
       " 'kinjal',\n",
       " 'matra',\n",
       " 'zankruti',\n",
       " 'anjali']"
      ]
     },
     "execution_count": 8,
     "metadata": {},
     "output_type": "execute_result"
    }
   ],
   "source": [
    "breakup = [\"anjali\",\"zankruti\",\"matra\",\"kinjal\",\"krishna\",\"devanshi\",\"harpal\",\"hemanshi\",\"hemangini\",\"vidhi\"]\n",
    "g = breakup.reverse()\n",
    "breakup"
   ]
  },
  {
   "cell_type": "code",
   "execution_count": 10,
   "id": "68f69935",
   "metadata": {},
   "outputs": [
    {
     "data": {
      "text/plain": [
       "['bhumi', 'budhu', 'ghochu']"
      ]
     },
     "execution_count": 10,
     "metadata": {},
     "output_type": "execute_result"
    }
   ],
   "source": [
    "crush = [\"bhumi\",\"ghochu\",\"budhu\"]\n",
    "f = crush.sort()\n",
    "crush"
   ]
  }
 ],
 "metadata": {
  "kernelspec": {
   "display_name": "Python 3 (ipykernel)",
   "language": "python",
   "name": "python3"
  },
  "language_info": {
   "codemirror_mode": {
    "name": "ipython",
    "version": 3
   },
   "file_extension": ".py",
   "mimetype": "text/x-python",
   "name": "python",
   "nbconvert_exporter": "python",
   "pygments_lexer": "ipython3",
   "version": "3.10.9"
  }
 },
 "nbformat": 4,
 "nbformat_minor": 5
}
