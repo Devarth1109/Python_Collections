{
 "cells": [
  {
   "cell_type": "markdown",
   "id": "792878be",
   "metadata": {},
   "source": [
    "# Set"
   ]
  },
  {
   "cell_type": "code",
   "execution_count": 3,
   "id": "3294b438",
   "metadata": {},
   "outputs": [
    {
     "name": "stdout",
     "output_type": "stream",
     "text": [
      "{'yellow', 'purple', 'green', 'red'}\n"
     ]
    },
    {
     "data": {
      "text/plain": [
       "set"
      ]
     },
     "execution_count": 3,
     "metadata": {},
     "output_type": "execute_result"
    }
   ],
   "source": [
    "\"\"\"\n",
    "set is a collection of python language.\n",
    "set is an unordered and unindexed collection.\n",
    "we can store multiple value in one variable.\n",
    "set is an immutable collection.\n",
    "it can not allow duplicates.\n",
    "set is declared in {}.\n",
    "\"\"\"\n",
    "a = {\"red\",\"green\",\"yellow\",\"purple\"}\n",
    "print(a)\n",
    "type(a)"
   ]
  },
  {
   "cell_type": "code",
   "execution_count": 4,
   "id": "4cd739aa",
   "metadata": {},
   "outputs": [
    {
     "name": "stdout",
     "output_type": "stream",
     "text": [
      "4\n"
     ]
    }
   ],
   "source": [
    "# check the length of set\n",
    "print(len(a))"
   ]
  },
  {
   "cell_type": "code",
   "execution_count": 5,
   "id": "c3ec5b33",
   "metadata": {},
   "outputs": [
    {
     "name": "stdout",
     "output_type": "stream",
     "text": [
      "{'yellow', 'red'} {1, 2, 3, 4} {4.5, 5.4} {False, True}\n"
     ]
    }
   ],
   "source": [
    "# we can declare multiple data types in set\n",
    "aa = {\"red\",\"yellow\"}\n",
    "ab = {1,2,3,4}\n",
    "ba = {4.5,5.4}\n",
    "bb = {True,False}\n",
    "print(aa,ab,ba,bb)"
   ]
  },
  {
   "cell_type": "code",
   "execution_count": 6,
   "id": "06dabc1f",
   "metadata": {},
   "outputs": [
    {
     "name": "stdout",
     "output_type": "stream",
     "text": [
      "True\n"
     ]
    }
   ],
   "source": [
    "# access set items\n",
    "gj = {\"gujarat\",\"maharashtra\",\"bihar\"}\n",
    "print(\"bihar\" in gj)"
   ]
  },
  {
   "cell_type": "code",
   "execution_count": 8,
   "id": "59088187",
   "metadata": {},
   "outputs": [
    {
     "data": {
      "text/plain": [
       "{'Uttarpradesh', 'bihar', 'gujarat', 'maharashtra'}"
      ]
     },
     "execution_count": 8,
     "metadata": {},
     "output_type": "execute_result"
    }
   ],
   "source": [
    "# add items\n",
    "gj.add(\"Uttarpradesh\") # add method.\n",
    "gj"
   ]
  },
  {
   "cell_type": "code",
   "execution_count": 10,
   "id": "598fcc03",
   "metadata": {},
   "outputs": [
    {
     "name": "stdout",
     "output_type": "stream",
     "text": [
      "{'nodejs', 'c++', 'python', 'java', 'c', 'angular', 'reactjs'}\n"
     ]
    }
   ],
   "source": [
    "# update items (join two sets)\n",
    "pp = {\"python\",\"java\",\"c\",\"c++\"}\n",
    "qq = {\"reactjs\",\"nodejs\",\"angular\"}\n",
    "pq = pp.update(qq)\n",
    "print(pp)"
   ]
  },
  {
   "cell_type": "code",
   "execution_count": 20,
   "id": "0907d230",
   "metadata": {},
   "outputs": [
    {
     "data": {
      "text/plain": [
       "{'angular', 'c++', 'python', 'reactjs'}"
      ]
     },
     "execution_count": 20,
     "metadata": {},
     "output_type": "execute_result"
    }
   ],
   "source": [
    "# remove the item\n",
    "pp.remove(\"nodejs\")\n",
    "pp"
   ]
  },
  {
   "cell_type": "code",
   "execution_count": 21,
   "id": "0260d9ab",
   "metadata": {},
   "outputs": [
    {
     "data": {
      "text/plain": [
       "{'hello', 'him', 'kite'}"
      ]
     },
     "execution_count": 21,
     "metadata": {},
     "output_type": "execute_result"
    }
   ],
   "source": [
    "op = {\"kite\",\"rose\",\"hello\",\"him\"}\n",
    "op.pop()\n",
    "op"
   ]
  },
  {
   "cell_type": "code",
   "execution_count": 22,
   "id": "b21f2e58",
   "metadata": {},
   "outputs": [
    {
     "data": {
      "text/plain": [
       "set()"
      ]
     },
     "execution_count": 22,
     "metadata": {},
     "output_type": "execute_result"
    }
   ],
   "source": [
    "op.clear()\n",
    "op"
   ]
  },
  {
   "cell_type": "code",
   "execution_count": 24,
   "id": "0165eb7e",
   "metadata": {},
   "outputs": [
    {
     "data": {
      "text/plain": [
       "{'apple', 'email', 'gmail', 'google', 'yahoo'}"
      ]
     },
     "execution_count": 24,
     "metadata": {},
     "output_type": "execute_result"
    }
   ],
   "source": [
    "# join the set\n",
    "il = {\"yahoo\",\"gmail\",\"email\"}\n",
    "li = {\"google\",\"apple\"}\n",
    "ll = il.union(li) # union keyword is used to join the set\n",
    "ll"
   ]
  },
  {
   "cell_type": "code",
   "execution_count": 26,
   "id": "c852f35a",
   "metadata": {},
   "outputs": [
    {
     "data": {
      "text/plain": [
       "{'apple', 'email', 'gmail', 'google', 'yahoo'}"
      ]
     },
     "execution_count": 26,
     "metadata": {},
     "output_type": "execute_result"
    }
   ],
   "source": [
    "il.update(li) # update method\n",
    "il"
   ]
  },
  {
   "cell_type": "code",
   "execution_count": 29,
   "id": "ccab7b7b",
   "metadata": {},
   "outputs": [
    {
     "name": "stdout",
     "output_type": "stream",
     "text": [
      "{'apple'}\n"
     ]
    }
   ],
   "source": [
    "# allow only the duplicates\n",
    "x = {\"apple\",\"banana\",\"cherry\"}\n",
    "y = {\"google\",\"microsoft\",\"apple\"}\n",
    "x.intersection_update(y)\n",
    "print(x)"
   ]
  },
  {
   "cell_type": "code",
   "execution_count": 31,
   "id": "5a9e5452",
   "metadata": {},
   "outputs": [
    {
     "name": "stdout",
     "output_type": "stream",
     "text": [
      "{'apple'}\n"
     ]
    }
   ],
   "source": [
    "x = {\"apple\",\"banana\",\"cherry\"}\n",
    "y = {\"google\",\"microsoft\",\"apple\"}\n",
    "z = x.intersection(y)\n",
    "print(z)"
   ]
  },
  {
   "cell_type": "code",
   "execution_count": 33,
   "id": "1b374839",
   "metadata": {},
   "outputs": [
    {
     "name": "stdout",
     "output_type": "stream",
     "text": [
      "{'banana', 'apple', 'cherry'}\n"
     ]
    }
   ],
   "source": [
    "x.symmetric_difference_update(y) # it print output without duplicate value\n",
    "print(x)"
   ]
  },
  {
   "cell_type": "code",
   "execution_count": 34,
   "id": "1960bf8b",
   "metadata": {},
   "outputs": [
    {
     "name": "stdout",
     "output_type": "stream",
     "text": [
      "{'e', 'o', 'a', 'u', 'i'}\n"
     ]
    }
   ],
   "source": [
    "# set methods\n",
    "\"\"\"\n",
    "add()\n",
    "clear()\n",
    "copy()\n",
    "difference()\n",
    "difference_update()\n",
    "discard()\n",
    "intersection()\n",
    "intersection_update()\n",
    "isdisjoint()\n",
    "issubset()\n",
    "pop()\n",
    "remove()\n",
    "symmetric_difference()\n",
    "symmetric_difference_update()\n",
    "union()\n",
    "update()\n",
    "\"\"\"\n",
    "\n",
    "fh = {\"a\",\"e\",\"i\",\"o\",\"u\"}\n",
    "print(fh)"
   ]
  },
  {
   "cell_type": "code",
   "execution_count": 35,
   "id": "c4682d0a",
   "metadata": {},
   "outputs": [
    {
     "name": "stdout",
     "output_type": "stream",
     "text": [
      "{'e', 'o', 'hello', 'a', 'u', 'i'}\n"
     ]
    }
   ],
   "source": [
    "# methods\n",
    "fh.add(\"hello\")\n",
    "print(fh)"
   ]
  },
  {
   "cell_type": "code",
   "execution_count": 36,
   "id": "c8786523",
   "metadata": {},
   "outputs": [
    {
     "name": "stdout",
     "output_type": "stream",
     "text": [
      "set()\n"
     ]
    }
   ],
   "source": [
    "fh.clear()\n",
    "print(fh)"
   ]
  },
  {
   "cell_type": "code",
   "execution_count": 39,
   "id": "9c9c0498",
   "metadata": {},
   "outputs": [
    {
     "name": "stdout",
     "output_type": "stream",
     "text": [
      "{'number', 'alpha', 'digit'}\n",
      "{'number', 'alpha', 'digit'}\n"
     ]
    }
   ],
   "source": [
    "jk = {\"alpha\",\"digit\",\"number\"}\n",
    "k = jk.copy()\n",
    "print(k)\n",
    "print(jk)"
   ]
  },
  {
   "cell_type": "code",
   "execution_count": 42,
   "id": "c82e3079",
   "metadata": {},
   "outputs": [
    {
     "name": "stdout",
     "output_type": "stream",
     "text": [
      "{'apple', 'guava'}\n"
     ]
    }
   ],
   "source": [
    "asp = {\"apple\",\"kiwi\",\"guava\"}\n",
    "net = {\"red\",\"faq\",\"kiwi\"}\n",
    "xc = asp.difference(net)\n",
    "print(xc)"
   ]
  },
  {
   "cell_type": "code",
   "execution_count": 47,
   "id": "e84ac947",
   "metadata": {},
   "outputs": [
    {
     "name": "stdout",
     "output_type": "stream",
     "text": [
      "{'bmw', 'ford'}\n"
     ]
    }
   ],
   "source": [
    "cx = {\"ford\",\"tata\",\"bmw\"}\n",
    "sd = {\"tata\",\"mustang\",1102}\n",
    "cx.difference_update(sd)\n",
    "print(cx)"
   ]
  },
  {
   "cell_type": "code",
   "execution_count": 48,
   "id": "471eef19",
   "metadata": {},
   "outputs": [
    {
     "data": {
      "text/plain": [
       "{'mustang', 'tata'}"
      ]
     },
     "execution_count": 48,
     "metadata": {},
     "output_type": "execute_result"
    }
   ],
   "source": [
    "sd.discard(1102)\n",
    "sd"
   ]
  },
  {
   "cell_type": "code",
   "execution_count": 50,
   "id": "1c73ef7b",
   "metadata": {},
   "outputs": [
    {
     "name": "stdout",
     "output_type": "stream",
     "text": [
      "{'devbhumi'}\n"
     ]
    }
   ],
   "source": [
    "ee = {\"devarth\",\"bhumi\",\"devbhumi\"}\n",
    "ww = {\"devbhumi\",\"devu\",\"deva\"}\n",
    "we = ee.intersection(ww)\n",
    "print(we)"
   ]
  },
  {
   "cell_type": "code",
   "execution_count": 54,
   "id": "e0478c3f",
   "metadata": {},
   "outputs": [
    {
     "name": "stdout",
     "output_type": "stream",
     "text": [
      "{'hie'}\n"
     ]
    }
   ],
   "source": [
    "tu = {\"hie\",\"hy\",\"hello\"}\n",
    "ut = {\"bye\",\"hie\",\"bie\"}\n",
    "tu.intersection_update(ut)\n",
    "print(tu)"
   ]
  },
  {
   "cell_type": "code",
   "execution_count": 57,
   "id": "7f3b2f09",
   "metadata": {},
   "outputs": [
    {
     "name": "stdout",
     "output_type": "stream",
     "text": [
      "False\n"
     ]
    }
   ],
   "source": [
    "ur = {\"method\",\"str\"}\n",
    "te = {\"oprand\",\"oppo\",\"str\"}\n",
    "u = ur.isdisjoint(te)\n",
    "print(u)"
   ]
  },
  {
   "cell_type": "code",
   "execution_count": 60,
   "id": "e39ff149",
   "metadata": {},
   "outputs": [
    {
     "data": {
      "text/plain": [
       "True"
      ]
     },
     "execution_count": 60,
     "metadata": {},
     "output_type": "execute_result"
    }
   ],
   "source": [
    "hg = {\"a\",\"b\",\"c\"}\n",
    "gf = {\"e\",\"f\",\"g\",\"a\",\"b\",\"c\"}\n",
    "h = hg.issubset(gf)\n",
    "h"
   ]
  },
  {
   "cell_type": "code",
   "execution_count": 61,
   "id": "dce43f16",
   "metadata": {},
   "outputs": [
    {
     "data": {
      "text/plain": [
       "{'a', 'b', 'c', 'e', 'g'}"
      ]
     },
     "execution_count": 61,
     "metadata": {},
     "output_type": "execute_result"
    }
   ],
   "source": [
    "gf.remove(\"f\")\n",
    "gf"
   ]
  },
  {
   "cell_type": "code",
   "execution_count": 62,
   "id": "c974817b",
   "metadata": {},
   "outputs": [
    {
     "data": {
      "text/plain": [
       "{'a', 'b', 'c', 'g'}"
      ]
     },
     "execution_count": 62,
     "metadata": {},
     "output_type": "execute_result"
    }
   ],
   "source": [
    "gf.pop()\n",
    "gf"
   ]
  },
  {
   "cell_type": "code",
   "execution_count": 64,
   "id": "c34d9c2c",
   "metadata": {},
   "outputs": [
    {
     "data": {
      "text/plain": [
       "{'b', 'c', 'e', 'u'}"
      ]
     },
     "execution_count": 64,
     "metadata": {},
     "output_type": "execute_result"
    }
   ],
   "source": [
    "r = {\"a\",\"b\",\"c\"}\n",
    "p = {\"a\",\"e\",\"u\"}\n",
    "o = r.symmetric_difference(p)\n",
    "o"
   ]
  },
  {
   "cell_type": "code",
   "execution_count": 69,
   "id": "0f71a9ff",
   "metadata": {},
   "outputs": [
    {
     "name": "stdout",
     "output_type": "stream",
     "text": [
      "{2, 3, 4, 5, 6, 7}\n"
     ]
    }
   ],
   "source": [
    "rp = {1,2,3,4}\n",
    "pr = {1,5,6,7}\n",
    "rp.symmetric_difference_update(pr)\n",
    "print(rp)"
   ]
  },
  {
   "cell_type": "code",
   "execution_count": 73,
   "id": "df465759",
   "metadata": {},
   "outputs": [
    {
     "data": {
      "text/plain": [
       "{'bhole', 'har', 'jay', 'mahadev', 'ram', 'shree'}"
      ]
     },
     "execution_count": 73,
     "metadata": {},
     "output_type": "execute_result"
    }
   ],
   "source": [
    "ue = {\"jay\",\"shree\",\"ram\"}\n",
    "eu = {\"har\",\"bhole\",\"mahadev\"}\n",
    "e = ue.union(eu)\n",
    "e"
   ]
  },
  {
   "cell_type": "code",
   "execution_count": 76,
   "id": "891b60f9",
   "metadata": {},
   "outputs": [
    {
     "data": {
      "text/plain": [
       "{'e', 'h', 'jay', 'ram', 'shree', 'y'}"
      ]
     },
     "execution_count": 76,
     "metadata": {},
     "output_type": "execute_result"
    }
   ],
   "source": [
    "ue = {\"jay\",\"shree\",\"ram\"}\n",
    "eu = {\"har\",\"bhole\",\"mahadev\"}\n",
    "ue.update(\"hey\")\n",
    "ue"
   ]
  },
  {
   "cell_type": "code",
   "execution_count": null,
   "id": "bcb8b880",
   "metadata": {},
   "outputs": [],
   "source": []
  }
 ],
 "metadata": {
  "kernelspec": {
   "display_name": "Python 3 (ipykernel)",
   "language": "python",
   "name": "python3"
  },
  "language_info": {
   "codemirror_mode": {
    "name": "ipython",
    "version": 3
   },
   "file_extension": ".py",
   "mimetype": "text/x-python",
   "name": "python",
   "nbconvert_exporter": "python",
   "pygments_lexer": "ipython3",
   "version": "3.10.9"
  }
 },
 "nbformat": 4,
 "nbformat_minor": 5
}
