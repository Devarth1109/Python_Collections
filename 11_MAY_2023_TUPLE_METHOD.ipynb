{
 "cells": [
  {
   "cell_type": "markdown",
   "id": "b414c47d",
   "metadata": {},
   "source": [
    "# Tuple"
   ]
  },
  {
   "cell_type": "code",
   "execution_count": 5,
   "id": "b40bcca1",
   "metadata": {},
   "outputs": [
    {
     "name": "stdout",
     "output_type": "stream",
     "text": [
      "('hello', 'python')\n",
      "<class 'tuple'>\n"
     ]
    }
   ],
   "source": [
    "\"\"\"\n",
    "tuple :-\n",
    "tuple is a collection of python.\n",
    "tuple is immutable collecation that means that it is not changable.\n",
    "tuple is ordered and indexed collection in python.\n",
    "tuple declared in (\"\").\n",
    "it can allow duplicates in tuple.\n",
    "\"\"\"\n",
    "mytupp = (\"hello\",\"python\")\n",
    "print(mytupp)\n",
    "print(type(mytupp))"
   ]
  },
  {
   "cell_type": "code",
   "execution_count": 6,
   "id": "944905cf",
   "metadata": {},
   "outputs": [
    {
     "name": "stdout",
     "output_type": "stream",
     "text": [
      "2\n"
     ]
    }
   ],
   "source": [
    "# check the length of tuple\n",
    "print(len(mytupp))"
   ]
  },
  {
   "cell_type": "code",
   "execution_count": 9,
   "id": "60724455",
   "metadata": {},
   "outputs": [
    {
     "name": "stdout",
     "output_type": "stream",
     "text": [
      "devarth\n",
      "<class 'str'>\n"
     ]
    }
   ],
   "source": [
    "# creating tuple with one item\n",
    "tp = (\"devarth\") # this is not a tuple this is string.\n",
    "print(tp)\n",
    "print(type(tp))"
   ]
  },
  {
   "cell_type": "code",
   "execution_count": 11,
   "id": "484852f4",
   "metadata": {},
   "outputs": [
    {
     "name": "stdout",
     "output_type": "stream",
     "text": [
      "('devarth',)\n",
      "<class 'tuple'>\n"
     ]
    }
   ],
   "source": [
    "pt = (\"devarth\",) # if we want to creating a tuple then this method is possible.\n",
    "print(pt)\n",
    "print(type(pt))"
   ]
  },
  {
   "cell_type": "code",
   "execution_count": 15,
   "id": "be7f28ee",
   "metadata": {},
   "outputs": [
    {
     "name": "stdout",
     "output_type": "stream",
     "text": [
      "('Ahmedabad', 'Junagadh', 'Rajkot')\n",
      "(9, 4, 5, 2, 1)\n",
      "(4.2, 2.5, 11.21)\n",
      "(True, False)\n"
     ]
    }
   ],
   "source": [
    "# we can declare multiple data types in tuple\n",
    "yt = (\"Ahmedabad\",\"Junagadh\",\"Rajkot\")\n",
    "ty = (9,4,5,2,1)\n",
    "tt = (4.2,2.5,11.21)\n",
    "yy = (True,False)\n",
    "print(yt)\n",
    "print(ty)\n",
    "print(tt)\n",
    "print(yy)"
   ]
  },
  {
   "cell_type": "code",
   "execution_count": 17,
   "id": "cc896ab8",
   "metadata": {},
   "outputs": [
    {
     "name": "stdout",
     "output_type": "stream",
     "text": [
      "4\n"
     ]
    }
   ],
   "source": [
    "# acces tuple item\n",
    "print(ty[1]) # we can access tuple item with an index number"
   ]
  },
  {
   "cell_type": "code",
   "execution_count": 18,
   "id": "834ae04a",
   "metadata": {},
   "outputs": [
    {
     "name": "stdout",
     "output_type": "stream",
     "text": [
      "yes it is there\n"
     ]
    }
   ],
   "source": [
    "# if portion in tuple\n",
    "rr = (\"apple\",\"banana\",\"cherry\")\n",
    "if \"apple\" in rr:\n",
    "    print(\"yes it is there\")"
   ]
  },
  {
   "cell_type": "code",
   "execution_count": 19,
   "id": "8e5c3fa9",
   "metadata": {},
   "outputs": [
    {
     "name": "stdout",
     "output_type": "stream",
     "text": [
      "('Ahmedabad', 'Junagadh', 'Rajkot')\n"
     ]
    }
   ],
   "source": [
    "# update the tuple\n",
    "print(yt)"
   ]
  },
  {
   "cell_type": "code",
   "execution_count": 21,
   "id": "fb99b560",
   "metadata": {},
   "outputs": [
    {
     "name": "stdout",
     "output_type": "stream",
     "text": [
      "('Ahmedabad', 'Junagadh', 'Amreli')\n"
     ]
    }
   ],
   "source": [
    "th = list(yt) # if we want to change the value then we convert tuple into list.\n",
    "th[2] = \"Amreli\"\n",
    "yt = tuple(th)\n",
    "print(yt)"
   ]
  },
  {
   "cell_type": "code",
   "execution_count": 22,
   "id": "6e7a9a95",
   "metadata": {},
   "outputs": [
    {
     "name": "stdout",
     "output_type": "stream",
     "text": [
      "('Ahmedabad', 'Junagadh', 'Amreli')\n"
     ]
    }
   ],
   "source": [
    "# remove method\n",
    "print(yt)"
   ]
  },
  {
   "cell_type": "code",
   "execution_count": 23,
   "id": "3e6d8494",
   "metadata": {},
   "outputs": [
    {
     "name": "stdout",
     "output_type": "stream",
     "text": [
      "('Ahmedabad', 'Amreli')\n"
     ]
    }
   ],
   "source": [
    "ht = list(yt)\n",
    "ht.remove(\"Junagadh\")\n",
    "yt = tuple(ht)\n",
    "print(yt)"
   ]
  },
  {
   "cell_type": "code",
   "execution_count": 27,
   "id": "73d7344b",
   "metadata": {},
   "outputs": [
    {
     "name": "stdout",
     "output_type": "stream",
     "text": [
      "Gandhinagar\n",
      "Naroda\n",
      "Mumbai\n"
     ]
    }
   ],
   "source": [
    "# unpack the tuple\n",
    "gh = (\"Gandhinagar\",\"Naroda\",\"Mumbai\")\n",
    "(green,black,pink) = gh # we can give nickname to the tuple\n",
    "print(green)\n",
    "print(black)\n",
    "print(pink)"
   ]
  },
  {
   "cell_type": "code",
   "execution_count": 29,
   "id": "5e5b52ef",
   "metadata": {},
   "outputs": [
    {
     "name": "stdout",
     "output_type": "stream",
     "text": [
      "list\n",
      "tuple\n",
      "set dictionary string integer\n"
     ]
    }
   ],
   "source": [
    "rg = (\"list\",\"tuple\",\"set\",\"dictionary\",\"string\",\"integer\")\n",
    "(easy,hard,*muchhard ) = rg\n",
    "print(easy)\n",
    "print(hard)\n",
    "print(*muchhard)"
   ]
  },
  {
   "cell_type": "code",
   "execution_count": 33,
   "id": "ce173252",
   "metadata": {},
   "outputs": [
    {
     "name": "stdout",
     "output_type": "stream",
     "text": [
      "red\n",
      "police\n",
      "ambulance\n"
     ]
    }
   ],
   "source": [
    "# tuple with using the while loop\n",
    "hg = (\"red\",\"police\",\"ambulance\")\n",
    "i = 0\n",
    "while i < len(hg):\n",
    "    print(hg[i])\n",
    "    i = i + 1"
   ]
  },
  {
   "cell_type": "code",
   "execution_count": 36,
   "id": "90f915ac",
   "metadata": {},
   "outputs": [
    {
     "data": {
      "text/plain": [
       "2"
      ]
     },
     "execution_count": 36,
     "metadata": {},
     "output_type": "execute_result"
    }
   ],
   "source": [
    "# tuple methods\n",
    "rg = (\"list\",\"tuple\",\"list\",\"set\")\n",
    "re = rg.count(\"list\") # count method\n",
    "re"
   ]
  },
  {
   "cell_type": "code",
   "execution_count": 38,
   "id": "1ccf98aa",
   "metadata": {},
   "outputs": [
    {
     "name": "stdout",
     "output_type": "stream",
     "text": [
      "1\n"
     ]
    }
   ],
   "source": [
    "er = rg.index(\"tuple\")\n",
    "print(er)"
   ]
  }
 ],
 "metadata": {
  "kernelspec": {
   "display_name": "Python 3 (ipykernel)",
   "language": "python",
   "name": "python3"
  },
  "language_info": {
   "codemirror_mode": {
    "name": "ipython",
    "version": 3
   },
   "file_extension": ".py",
   "mimetype": "text/x-python",
   "name": "python",
   "nbconvert_exporter": "python",
   "pygments_lexer": "ipython3",
   "version": "3.10.9"
  }
 },
 "nbformat": 4,
 "nbformat_minor": 5
}
